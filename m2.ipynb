{
 "cells": [
  {
   "cell_type": "code",
   "execution_count": 2,
   "metadata": {},
   "outputs": [
    {
     "ename": "ModuleNotFoundError",
     "evalue": "No module named 'jaxlib'",
     "output_type": "error",
     "traceback": [
      "\u001b[1;31m---------------------------------------------------------------------------\u001b[0m",
      "\u001b[1;31mModuleNotFoundError\u001b[0m                       Traceback (most recent call last)",
      "Cell \u001b[1;32mIn[2], line 5\u001b[0m\n\u001b[0;32m      3\u001b[0m \u001b[39mimport\u001b[39;00m \u001b[39mre\u001b[39;00m \n\u001b[0;32m      4\u001b[0m \u001b[39mfrom\u001b[39;00m \u001b[39mPIL\u001b[39;00m \u001b[39mimport\u001b[39;00m Image\n\u001b[1;32m----> 5\u001b[0m \u001b[39mfrom\u001b[39;00m \u001b[39mtransformers\u001b[39;00m \u001b[39mimport\u001b[39;00m AutoTokenizer, ViTImageProcessor, VisionEncoderDecoderModel\n",
      "File \u001b[1;32md:\\Drives\\D\\Open SOSS\\AI-Image-Caption-Generator\\.venv\\Lib\\site-packages\\transformers\\__init__.py:26\u001b[0m\n\u001b[0;32m     23\u001b[0m \u001b[39mfrom\u001b[39;00m \u001b[39mtyping\u001b[39;00m \u001b[39mimport\u001b[39;00m TYPE_CHECKING\n\u001b[0;32m     25\u001b[0m \u001b[39m# Check the dependencies satisfy the minimal versions required.\u001b[39;00m\n\u001b[1;32m---> 26\u001b[0m \u001b[39mfrom\u001b[39;00m \u001b[39m.\u001b[39;00m \u001b[39mimport\u001b[39;00m dependency_versions_check\n\u001b[0;32m     27\u001b[0m \u001b[39mfrom\u001b[39;00m \u001b[39m.\u001b[39;00m\u001b[39mutils\u001b[39;00m \u001b[39mimport\u001b[39;00m (\n\u001b[0;32m     28\u001b[0m     OptionalDependencyNotAvailable,\n\u001b[0;32m     29\u001b[0m     _LazyModule,\n\u001b[1;32m   (...)\u001b[0m\n\u001b[0;32m     42\u001b[0m     logging,\n\u001b[0;32m     43\u001b[0m )\n\u001b[0;32m     46\u001b[0m logger \u001b[39m=\u001b[39m logging\u001b[39m.\u001b[39mget_logger(\u001b[39m__name__\u001b[39m)  \u001b[39m# pylint: disable=invalid-name\u001b[39;00m\n",
      "File \u001b[1;32md:\\Drives\\D\\Open SOSS\\AI-Image-Caption-Generator\\.venv\\Lib\\site-packages\\transformers\\dependency_versions_check.py:36\u001b[0m\n\u001b[0;32m     33\u001b[0m \u001b[39mif\u001b[39;00m pkg \u001b[39min\u001b[39;00m deps:\n\u001b[0;32m     34\u001b[0m     \u001b[39mif\u001b[39;00m pkg \u001b[39m==\u001b[39m \u001b[39m\"\u001b[39m\u001b[39mtokenizers\u001b[39m\u001b[39m\"\u001b[39m:\n\u001b[0;32m     35\u001b[0m         \u001b[39m# must be loaded here, or else tqdm check may fail\u001b[39;00m\n\u001b[1;32m---> 36\u001b[0m         \u001b[39mfrom\u001b[39;00m \u001b[39m.\u001b[39;00m\u001b[39mutils\u001b[39;00m \u001b[39mimport\u001b[39;00m is_tokenizers_available\n\u001b[0;32m     38\u001b[0m         \u001b[39mif\u001b[39;00m \u001b[39mnot\u001b[39;00m is_tokenizers_available():\n\u001b[0;32m     39\u001b[0m             \u001b[39mcontinue\u001b[39;00m  \u001b[39m# not required, check version only if installed\u001b[39;00m\n",
      "File \u001b[1;32md:\\Drives\\D\\Open SOSS\\AI-Image-Caption-Generator\\.venv\\Lib\\site-packages\\transformers\\utils\\__init__.py:30\u001b[0m\n\u001b[0;32m     21\u001b[0m \u001b[39mfrom\u001b[39;00m \u001b[39m.\u001b[39;00m\u001b[39mconstants\u001b[39;00m \u001b[39mimport\u001b[39;00m IMAGENET_DEFAULT_MEAN, IMAGENET_DEFAULT_STD, IMAGENET_STANDARD_MEAN, IMAGENET_STANDARD_STD\n\u001b[0;32m     22\u001b[0m \u001b[39mfrom\u001b[39;00m \u001b[39m.\u001b[39;00m\u001b[39mdoc\u001b[39;00m \u001b[39mimport\u001b[39;00m (\n\u001b[0;32m     23\u001b[0m     add_code_sample_docstrings,\n\u001b[0;32m     24\u001b[0m     add_end_docstrings,\n\u001b[1;32m   (...)\u001b[0m\n\u001b[0;32m     28\u001b[0m     replace_return_docstrings,\n\u001b[0;32m     29\u001b[0m )\n\u001b[1;32m---> 30\u001b[0m \u001b[39mfrom\u001b[39;00m \u001b[39m.\u001b[39;00m\u001b[39mgeneric\u001b[39;00m \u001b[39mimport\u001b[39;00m (\n\u001b[0;32m     31\u001b[0m     ContextManagers,\n\u001b[0;32m     32\u001b[0m     ExplicitEnum,\n\u001b[0;32m     33\u001b[0m     ModelOutput,\n\u001b[0;32m     34\u001b[0m     PaddingStrategy,\n\u001b[0;32m     35\u001b[0m     TensorType,\n\u001b[0;32m     36\u001b[0m     cached_property,\n\u001b[0;32m     37\u001b[0m     can_return_loss,\n\u001b[0;32m     38\u001b[0m     expand_dims,\n\u001b[0;32m     39\u001b[0m     find_labels,\n\u001b[0;32m     40\u001b[0m     flatten_dict,\n\u001b[0;32m     41\u001b[0m     is_jax_tensor,\n\u001b[0;32m     42\u001b[0m     is_numpy_array,\n\u001b[0;32m     43\u001b[0m     is_tensor,\n\u001b[0;32m     44\u001b[0m     is_tf_tensor,\n\u001b[0;32m     45\u001b[0m     is_torch_device,\n\u001b[0;32m     46\u001b[0m     is_torch_dtype,\n\u001b[0;32m     47\u001b[0m     is_torch_tensor,\n\u001b[0;32m     48\u001b[0m     reshape,\n\u001b[0;32m     49\u001b[0m     squeeze,\n\u001b[0;32m     50\u001b[0m     strtobool,\n\u001b[0;32m     51\u001b[0m     tensor_size,\n\u001b[0;32m     52\u001b[0m     to_numpy,\n\u001b[0;32m     53\u001b[0m     to_py_obj,\n\u001b[0;32m     54\u001b[0m     transpose,\n\u001b[0;32m     55\u001b[0m     working_or_temp_dir,\n\u001b[0;32m     56\u001b[0m )\n\u001b[0;32m     57\u001b[0m \u001b[39mfrom\u001b[39;00m \u001b[39m.\u001b[39;00m\u001b[39mhub\u001b[39;00m \u001b[39mimport\u001b[39;00m (\n\u001b[0;32m     58\u001b[0m     CLOUDFRONT_DISTRIB_PREFIX,\n\u001b[0;32m     59\u001b[0m     DISABLE_TELEMETRY,\n\u001b[1;32m   (...)\u001b[0m\n\u001b[0;32m     85\u001b[0m     send_example_telemetry,\n\u001b[0;32m     86\u001b[0m )\n\u001b[0;32m     87\u001b[0m \u001b[39mfrom\u001b[39;00m \u001b[39m.\u001b[39;00m\u001b[39mimport_utils\u001b[39;00m \u001b[39mimport\u001b[39;00m (\n\u001b[0;32m     88\u001b[0m     ENV_VARS_TRUE_AND_AUTO_VALUES,\n\u001b[0;32m     89\u001b[0m     ENV_VARS_TRUE_VALUES,\n\u001b[1;32m   (...)\u001b[0m\n\u001b[0;32m    167\u001b[0m     torch_version,\n\u001b[0;32m    168\u001b[0m )\n",
      "File \u001b[1;32md:\\Drives\\D\\Open SOSS\\AI-Image-Caption-Generator\\.venv\\Lib\\site-packages\\transformers\\utils\\generic.py:33\u001b[0m\n\u001b[0;32m     29\u001b[0m \u001b[39mfrom\u001b[39;00m \u001b[39m.\u001b[39;00m\u001b[39mimport_utils\u001b[39;00m \u001b[39mimport\u001b[39;00m is_flax_available, is_tf_available, is_torch_available, is_torch_fx_proxy\n\u001b[0;32m     32\u001b[0m \u001b[39mif\u001b[39;00m is_flax_available():\n\u001b[1;32m---> 33\u001b[0m     \u001b[39mimport\u001b[39;00m \u001b[39mjax\u001b[39;00m\u001b[39m.\u001b[39;00m\u001b[39mnumpy\u001b[39;00m \u001b[39mas\u001b[39;00m \u001b[39mjnp\u001b[39;00m\n\u001b[0;32m     36\u001b[0m \u001b[39mclass\u001b[39;00m \u001b[39mcached_property\u001b[39;00m(\u001b[39mproperty\u001b[39m):\n\u001b[0;32m     37\u001b[0m \u001b[39m    \u001b[39m\u001b[39m\"\"\"\u001b[39;00m\n\u001b[0;32m     38\u001b[0m \u001b[39m    Descriptor that mimics @property but caches output in member variable.\u001b[39;00m\n\u001b[0;32m     39\u001b[0m \n\u001b[1;32m   (...)\u001b[0m\n\u001b[0;32m     42\u001b[0m \u001b[39m    Built-in in functools from Python 3.8.\u001b[39;00m\n\u001b[0;32m     43\u001b[0m \u001b[39m    \"\"\"\u001b[39;00m\n",
      "File \u001b[1;32md:\\Drives\\D\\Open SOSS\\AI-Image-Caption-Generator\\.venv\\Lib\\site-packages\\jax\\__init__.py:21\u001b[0m\n\u001b[0;32m     18\u001b[0m \u001b[39mdel\u001b[39;00m _os\n\u001b[0;32m     20\u001b[0m \u001b[39m# flake8: noqa: F401\u001b[39;00m\n\u001b[1;32m---> 21\u001b[0m \u001b[39mfrom\u001b[39;00m \u001b[39m.\u001b[39;00m\u001b[39mconfig\u001b[39;00m \u001b[39mimport\u001b[39;00m config\n\u001b[0;32m     22\u001b[0m \u001b[39mfrom\u001b[39;00m \u001b[39m.\u001b[39;00m\u001b[39mapi\u001b[39;00m \u001b[39mimport\u001b[39;00m (\n\u001b[0;32m     23\u001b[0m   ad,  \u001b[39m# TODO(phawkins): update users to avoid this.\u001b[39;00m\n\u001b[0;32m     24\u001b[0m   argnums_partial,  \u001b[39m# TODO(phawkins): update Haiku to not use this.\u001b[39;00m\n\u001b[1;32m   (...)\u001b[0m\n\u001b[0;32m     87\u001b[0m   xla_computation,\n\u001b[0;32m     88\u001b[0m )\n\u001b[0;32m     89\u001b[0m \u001b[39mfrom\u001b[39;00m \u001b[39m.\u001b[39;00m\u001b[39mexperimental\u001b[39;00m\u001b[39m.\u001b[39;00m\u001b[39mmaps\u001b[39;00m \u001b[39mimport\u001b[39;00m soft_pmap\n",
      "File \u001b[1;32md:\\Drives\\D\\Open SOSS\\AI-Image-Caption-Generator\\.venv\\Lib\\site-packages\\jax\\config.py:19\u001b[0m\n\u001b[0;32m     17\u001b[0m \u001b[39mimport\u001b[39;00m \u001b[39mthreading\u001b[39;00m\n\u001b[0;32m     18\u001b[0m \u001b[39mfrom\u001b[39;00m \u001b[39mtyping\u001b[39;00m \u001b[39mimport\u001b[39;00m Optional\n\u001b[1;32m---> 19\u001b[0m \u001b[39mfrom\u001b[39;00m \u001b[39mjax\u001b[39;00m \u001b[39mimport\u001b[39;00m lib\n\u001b[0;32m     21\u001b[0m \u001b[39mdef\u001b[39;00m \u001b[39mbool_env\u001b[39m(varname: \u001b[39mstr\u001b[39m, default: \u001b[39mbool\u001b[39m) \u001b[39m-\u001b[39m\u001b[39m>\u001b[39m \u001b[39mbool\u001b[39m:\n\u001b[0;32m     22\u001b[0m \u001b[39m  \u001b[39m\u001b[39m\"\"\"Read an environment variable and interpret it as a boolean.\u001b[39;00m\n\u001b[0;32m     23\u001b[0m \n\u001b[0;32m     24\u001b[0m \u001b[39m  True values are (case insensitive): 'y', 'yes', 't', 'true', 'on', and '1';\u001b[39;00m\n\u001b[1;32m   (...)\u001b[0m\n\u001b[0;32m     30\u001b[0m \u001b[39m  Raises: ValueError if the environment variable is anything else.\u001b[39;00m\n\u001b[0;32m     31\u001b[0m \u001b[39m  \"\"\"\u001b[39;00m\n",
      "File \u001b[1;32md:\\Drives\\D\\Open SOSS\\AI-Image-Caption-Generator\\.venv\\Lib\\site-packages\\jax\\lib\\__init__.py:23\u001b[0m\n\u001b[0;32m      1\u001b[0m \u001b[39m# Copyright 2018 Google LLC\u001b[39;00m\n\u001b[0;32m      2\u001b[0m \u001b[39m#\u001b[39;00m\n\u001b[0;32m      3\u001b[0m \u001b[39m# Licensed under the Apache License, Version 2.0 (the \"License\");\u001b[39;00m\n\u001b[1;32m   (...)\u001b[0m\n\u001b[0;32m     15\u001b[0m \u001b[39m# This module is largely a wrapper around `jaxlib` that performs version\u001b[39;00m\n\u001b[0;32m     16\u001b[0m \u001b[39m# checking on import.\u001b[39;00m\n\u001b[0;32m     18\u001b[0m __all__ \u001b[39m=\u001b[39m [\n\u001b[0;32m     19\u001b[0m   \u001b[39m'\u001b[39m\u001b[39mcuda_prng\u001b[39m\u001b[39m'\u001b[39m, \u001b[39m'\u001b[39m\u001b[39mcusolver\u001b[39m\u001b[39m'\u001b[39m, \u001b[39m'\u001b[39m\u001b[39mrocsolver\u001b[39m\u001b[39m'\u001b[39m, \u001b[39m'\u001b[39m\u001b[39mjaxlib\u001b[39m\u001b[39m'\u001b[39m, \u001b[39m'\u001b[39m\u001b[39mlapack\u001b[39m\u001b[39m'\u001b[39m,\n\u001b[0;32m     20\u001b[0m   \u001b[39m'\u001b[39m\u001b[39mpocketfft\u001b[39m\u001b[39m'\u001b[39m, \u001b[39m'\u001b[39m\u001b[39mpytree\u001b[39m\u001b[39m'\u001b[39m, \u001b[39m'\u001b[39m\u001b[39mtpu_client\u001b[39m\u001b[39m'\u001b[39m, \u001b[39m'\u001b[39m\u001b[39mversion\u001b[39m\u001b[39m'\u001b[39m, \u001b[39m'\u001b[39m\u001b[39mxla_client\u001b[39m\u001b[39m'\u001b[39m\n\u001b[0;32m     21\u001b[0m ]\n\u001b[1;32m---> 23\u001b[0m \u001b[39mimport\u001b[39;00m \u001b[39mjaxlib\u001b[39;00m\n\u001b[0;32m     25\u001b[0m \u001b[39m# Must be kept in sync with the jaxlib version in build/test-requirements.txt\u001b[39;00m\n\u001b[0;32m     26\u001b[0m _minimum_jaxlib_version \u001b[39m=\u001b[39m (\u001b[39m0\u001b[39m, \u001b[39m1\u001b[39m, \u001b[39m60\u001b[39m)\n",
      "\u001b[1;31mModuleNotFoundError\u001b[0m: No module named 'jaxlib'"
     ]
    }
   ],
   "source": [
    "import torch\n",
    "import gradio as gr \n",
    "import re \n",
    "from PIL import Image\n",
    "from transformers import AutoTokenizer, ViTImageProcessor, VisionEncoderDecoderModel"
   ]
  },
  {
   "cell_type": "code",
   "execution_count": null,
   "metadata": {},
   "outputs": [],
   "source": [
    "# Set the device to CPU\n",
    "device = 'cpu'\n",
    "\n",
    "# Load the pre-trained checkpoints for the image captioning model\n",
    "encoder_checkpoint = \"nlpconnect/vit-gpt2-image-captioning\"\n",
    "decoder_checkpoint = \"nlpconnect/vit-gpt2-image-captioning\"\n",
    "model_checkpoint = \"nlpconnect/vit-gpt2-image-captioning\"\n",
    "\n",
    "# Instantiate a pre-trained image feature extractor, tokenizer, and image captioning model\n",
    "feature_extractor = ViTImageProcessor.from_pretrained(encoder_checkpoint)\n",
    "tokenizer = AutoTokenizer.from_pretrained(decoder_checkpoint)\n",
    "model = VisionEncoderDecoderModel.from_pretrained(model_checkpoint).to(device)"
   ]
  },
  {
   "cell_type": "code",
   "execution_count": null,
   "metadata": {},
   "outputs": [],
   "source": [
    "def predict(image, max_length=64, num_beams=4):\n",
    "    \"\"\"\n",
    "    Generates a textual caption for the given image using a pre-trained image captioning model.\n",
    "\n",
    "    Parameters:\n",
    "    image (PIL.Image): The input image.\n",
    "    max_length (int): The maximum length of the generated caption.\n",
    "    num_beams (int): The number of beams to use in beam search decoding.\n",
    "\n",
    "    Returns:\n",
    "    str: The generated textual caption.\n",
    "    \"\"\"\n",
    "    # Convert the input image to RGB and extract its features using a pre-trained image feature extractor.\n",
    "    image = image.convert('RGB')\n",
    "    image = feature_extractor(image, return_tensors=\"pt\").pixel_values.to(device)\n",
    "\n",
    "    # Define a lambda function to clean up the generated caption text.\n",
    "    clean_text = lambda x: x.replace('','').split('\\n')[0]\n",
    "\n",
    "    # Generate the caption using the pre-trained image captioning model.\n",
    "    caption_ids = model.generate(image, max_length=max_length, num_beams=num_beams)[0]\n",
    "    caption_text = clean_text(tokenizer.decode(caption_ids))\n",
    "\n",
    "    # Print the type of the generated caption text and return it.\n",
    "    print(type(caption_text))\n",
    "    return caption_text\n",
    "\n",
    "\n",
    "# def set_example_image(example: list) -> dict:\n",
    "#     return gr.Image.update(value=example[0])"
   ]
  },
  {
   "cell_type": "code",
   "execution_count": null,
   "metadata": {},
   "outputs": [],
   "source": [
    "# Define the user interface using the `gr.Interface` function\n",
    "interface = gr.Interface(\n",
    "    fn=predict,                                      # The function to run when the user inputs an image\n",
    "    inputs=gr.Image(type=\"pil\"),                     # The input widget, which allows the user to upload an image\n",
    "    outputs=gr.Textbox(\"Caption Text\")               # The output widget, which displays the generated caption\n",
    ")\n",
    "\n",
    "# Launch the user interface\n",
    "interface.launch()\n"
   ]
  }
 ],
 "metadata": {
  "kernelspec": {
   "display_name": ".env",
   "language": "python",
   "name": "python3"
  },
  "language_info": {
   "codemirror_mode": {
    "name": "ipython",
    "version": 3
   },
   "file_extension": ".py",
   "mimetype": "text/x-python",
   "name": "python",
   "nbconvert_exporter": "python",
   "pygments_lexer": "ipython3",
   "version": "3.10.6"
  },
  "orig_nbformat": 4
 },
 "nbformat": 4,
 "nbformat_minor": 2
}
