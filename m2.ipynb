{
 "cells": [
  {
   "cell_type": "code",
<<<<<<< HEAD
   "execution_count": 3,
=======
   "execution_count": 5,
>>>>>>> 90d4400 (update: remove models and added interface)
   "metadata": {},
   "outputs": [],
   "source": [
    "import torch\n",
    "import gradio as gr \n",
    "import re \n",
    "from PIL import Image\n",
    "from transformers import AutoTokenizer, ViTImageProcessor, VisionEncoderDecoderModel"
   ]
  },
  {
   "cell_type": "code",
<<<<<<< HEAD
   "execution_count": 5,
   "metadata": {},
   "outputs": [],
   "source": [
    "device='cpu'\n",
    "encoder_checkpoint = \"nlpconnect/vit-gpt2-image-captioning\"\n",
    "decoder_checkpoint = \"nlpconnect/vit-gpt2-image-captioning\"\n",
    "model_checkpoint = \"nlpconnect/vit-gpt2-image-captioning\"\n",
=======
   "execution_count": 6,
   "metadata": {},
   "outputs": [],
   "source": [
    "# Set the device to CPU\n",
    "device = 'cpu'\n",
    "\n",
    "# Load the pre-trained checkpoints for the image captioning model\n",
    "encoder_checkpoint = \"nlpconnect/vit-gpt2-image-captioning\"\n",
    "decoder_checkpoint = \"nlpconnect/vit-gpt2-image-captioning\"\n",
    "model_checkpoint = \"nlpconnect/vit-gpt2-image-captioning\"\n",
    "\n",
    "# Instantiate a pre-trained image feature extractor, tokenizer, and image captioning model\n",
>>>>>>> 90d4400 (update: remove models and added interface)
    "feature_extractor = ViTImageProcessor.from_pretrained(encoder_checkpoint)\n",
    "tokenizer = AutoTokenizer.from_pretrained(decoder_checkpoint)\n",
    "model = VisionEncoderDecoderModel.from_pretrained(model_checkpoint).to(device)"
   ]
  },
  {
   "cell_type": "code",
<<<<<<< HEAD
   "execution_count": 22,
=======
   "execution_count": 7,
   "metadata": {},
   "outputs": [],
   "source": [
    "def predict(image, max_length=64, num_beams=4):\n",
    "    \"\"\"\n",
    "    Generates a textual caption for the given image using a pre-trained image captioning model.\n",
    "\n",
    "    Parameters:\n",
    "    image (PIL.Image): The input image.\n",
    "    max_length (int): The maximum length of the generated caption.\n",
    "    num_beams (int): The number of beams to use in beam search decoding.\n",
    "\n",
    "    Returns:\n",
    "    str: The generated textual caption.\n",
    "    \"\"\"\n",
    "    # Convert the input image to RGB and extract its features using a pre-trained image feature extractor.\n",
    "    image = image.convert('RGB')\n",
    "    image = feature_extractor(image, return_tensors=\"pt\").pixel_values.to(device)\n",
    "\n",
    "    # Define a lambda function to clean up the generated caption text.\n",
    "    clean_text = lambda x: x.replace('','').split('\\n')[0]\n",
    "\n",
    "    # Generate the caption using the pre-trained image captioning model.\n",
    "    caption_ids = model.generate(image, max_length=max_length, num_beams=num_beams)[0]\n",
    "    caption_text = clean_text(tokenizer.decode(caption_ids))\n",
    "\n",
    "    # # Print the type of the generated caption text and return it.\n",
    "    # print(type(caption_text))\n",
    "    return caption_text\n",
    "\n",
    "\n",
    "# def set_example_image(example: list) -> dict:\n",
    "#     return gr.Image.update(value=example[0])\n"
   ]
  },
  {
   "cell_type": "code",
   "execution_count": 8,
>>>>>>> 90d4400 (update: remove models and added interface)
   "metadata": {},
   "outputs": [
    {
     "name": "stdout",
     "output_type": "stream",
     "text": [
<<<<<<< HEAD
      "Running on local URL:  http://127.0.0.1:7865\n",
=======
      "Running on local URL:  http://127.0.0.1:7861\n",
>>>>>>> 90d4400 (update: remove models and added interface)
      "\n",
      "To create a public link, set `share=True` in `launch()`.\n"
     ]
    },
    {
     "data": {
      "text/html": [
<<<<<<< HEAD
       "<div><iframe src=\"http://127.0.0.1:7865/\" width=\"100%\" height=\"500\" allow=\"autoplay; camera; microphone; clipboard-read; clipboard-write;\" frameborder=\"0\" allowfullscreen></iframe></div>"
=======
       "<div><iframe src=\"http://127.0.0.1:7861/\" width=\"100%\" height=\"500\" allow=\"autoplay; camera; microphone; clipboard-read; clipboard-write;\" frameborder=\"0\" allowfullscreen></iframe></div>"
>>>>>>> 90d4400 (update: remove models and added interface)
      ],
      "text/plain": [
       "<IPython.core.display.HTML object>"
      ]
     },
     "metadata": {},
     "output_type": "display_data"
    },
    {
     "data": {
      "text/plain": []
     },
<<<<<<< HEAD
     "execution_count": 22,
     "metadata": {},
     "output_type": "execute_result"
    },
    {
     "name": "stderr",
     "output_type": "stream",
     "text": [
      "Traceback (most recent call last):\n",
      "  File \"/media/ayush/personal space/Open SOSS/AI-Image-Caption-Generator/.env/lib/python3.10/site-packages/gradio/routes.py\", line 412, in run_predict\n",
      "    output = await app.get_blocks().process_api(\n",
      "  File \"/media/ayush/personal space/Open SOSS/AI-Image-Caption-Generator/.env/lib/python3.10/site-packages/gradio/blocks.py\", line 1299, in process_api\n",
      "    result = await self.call_function(\n",
      "  File \"/media/ayush/personal space/Open SOSS/AI-Image-Caption-Generator/.env/lib/python3.10/site-packages/gradio/blocks.py\", line 1021, in call_function\n",
      "    prediction = await anyio.to_thread.run_sync(\n",
      "  File \"/media/ayush/personal space/Open SOSS/AI-Image-Caption-Generator/.env/lib/python3.10/site-packages/anyio/to_thread.py\", line 31, in run_sync\n",
      "    return await get_asynclib().run_sync_in_worker_thread(\n",
      "  File \"/media/ayush/personal space/Open SOSS/AI-Image-Caption-Generator/.env/lib/python3.10/site-packages/anyio/_backends/_asyncio.py\", line 937, in run_sync_in_worker_thread\n",
      "    return await future\n",
      "  File \"/media/ayush/personal space/Open SOSS/AI-Image-Caption-Generator/.env/lib/python3.10/site-packages/anyio/_backends/_asyncio.py\", line 867, in run\n",
      "    result = context.run(func, *args)\n",
      "  File \"/tmp/ipykernel_6018/971669572.py\", line 2, in predict\n",
      "    image = image.convert('RGB')\n",
      "AttributeError: 'NoneType' object has no attribute 'convert'\n"
     ]
    },
    {
     "name": "stdout",
     "output_type": "stream",
     "text": [
      "<class 'str'>\n"
     ]
    }
   ],
   "source": [
    "def predict(image,max_length=64, num_beams=4):\n",
    "\timage = image.convert('RGB')\n",
    "\timage = feature_extractor(image, return_tensors=\"pt\").pixel_values.to(device)\n",
    "\tclean_text = lambda x: x.replace('<|endoftext|>','').split('\\n')[0]\n",
    "\tcaption_ids = model.generate(image, max_length = max_length)[0]\n",
    "\tcaption_text = clean_text(tokenizer.decode(caption_ids))\n",
    "\tprint(type(caption_text))\n",
    "\treturn caption_text \n",
    "\n",
    "# def set_example_image(example: list) -> dict:\n",
    "#     return gr.Image.update(value=example[0])\n",
    "\n",
    "gr.Interface(fn=predict, inputs=gr.Image(type=\"pil\"), outputs=gr.Textbox(\"Caption Text\")).launch()"
=======
     "execution_count": 8,
     "metadata": {},
     "output_type": "execute_result"
    }
   ],
   "source": [
    "# Define the user interface using the `gr.Interface` function\n",
    "interface = gr.Interface(\n",
    "    fn=predict,                                      # The function to run when the user inputs an image\n",
    "    inputs=gr.Image(type=\"pil\"),                     # The input widget, which allows the user to upload an image\n",
    "    outputs=gr.Textbox(\"Caption Text\")               # The output widget, which displays the generated caption\n",
    ")\n",
    "\n",
    "# Launch the user interface\n",
    "interface.launch()\n"
>>>>>>> 90d4400 (update: remove models and added interface)
   ]
  }
 ],
 "metadata": {
  "kernelspec": {
   "display_name": ".env",
   "language": "python",
   "name": "python3"
  },
  "language_info": {
   "codemirror_mode": {
    "name": "ipython",
    "version": 3
   },
   "file_extension": ".py",
   "mimetype": "text/x-python",
   "name": "python",
   "nbconvert_exporter": "python",
   "pygments_lexer": "ipython3",
   "version": "3.10.6"
  },
  "orig_nbformat": 4
 },
 "nbformat": 4,
 "nbformat_minor": 2
}
