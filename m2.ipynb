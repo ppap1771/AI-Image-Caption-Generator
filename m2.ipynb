{
 "cells": [
  {
   "cell_type": "code",
   "execution_count": null,
   "metadata": {},
   "outputs": [],
   "source": [
    "import torch\n",
    "import gradio as gr \n",
    "import re \n",
    "from PIL import Image\n",
    "from transformers import AutoTokenizer, ViTImageProcessor, VisionEncoderDecoderModel"
   ]
  },
  {
   "cell_type": "code",
   "execution_count": null,
   "metadata": {},
   "outputs": [],
   "source": [
    "# Set the device to CPU\n",
    "device = 'cpu'\n",
    "\n",
    "# Load the pre-trained checkpoints for the image captioning model\n",
    "encoder_checkpoint = \"nlpconnect/vit-gpt2-image-captioning\"\n",
    "decoder_checkpoint = \"nlpconnect/vit-gpt2-image-captioning\"\n",
    "model_checkpoint = \"nlpconnect/vit-gpt2-image-captioning\"\n",
    "\n",
    "# Instantiate a pre-trained image feature extractor, tokenizer, and image captioning model\n",
    "feature_extractor = ViTImageProcessor.from_pretrained(encoder_checkpoint)\n",
    "tokenizer = AutoTokenizer.from_pretrained(decoder_checkpoint)\n",
    "model = VisionEncoderDecoderModel.from_pretrained(model_checkpoint).to(device)"
   ]
  },
  {
   "cell_type": "code",
   "execution_count": null,
   "metadata": {},
   "outputs": [],
   "source": [
    "def predict(image, max_length=64, num_beams=4):\n",
    "    \"\"\"\n",
    "    Generates a textual caption for the given image using a pre-trained image captioning model.\n",
    "\n",
    "    Parameters:\n",
    "    image (PIL.Image): The input image.\n",
    "    max_length (int): The maximum length of the generated caption.\n",
    "    num_beams (int): The number of beams to use in beam search decoding.\n",
    "\n",
    "    Returns:\n",
    "    str: The generated textual caption.\n",
    "    \"\"\"\n",
    "    # Convert the input image to RGB and extract its features using a pre-trained image feature extractor.\n",
    "    image = image.convert('RGB')\n",
    "    image = feature_extractor(image, return_tensors=\"pt\").pixel_values.to(device)\n",
    "\n",
    "    # Define a lambda function to clean up the generated caption text.\n",
    "    clean_text = lambda x: x.replace('','').split('\\n')[0]\n",
    "\n",
    "    # Generate the caption using the pre-trained image captioning model.\n",
    "    caption_ids = model.generate(image, max_length=max_length, num_beams=num_beams)[0]\n",
    "    caption_text = clean_text(tokenizer.decode(caption_ids))\n",
    "\n",
    "    # Print the type of the generated caption text and return it.\n",
    "    print(type(caption_text))\n",
    "    return caption_text\n",
    "\n",
    "\n",
    "# def set_example_image(example: list) -> dict:\n",
    "#     return gr.Image.update(value=example[0])"
   ]
  },
  {
   "cell_type": "code",
   "execution_count": null,
   "metadata": {},
   "outputs": [],
   "source": [
    "# Define the user interface using the `gr.Interface` function\n",
    "interface = gr.Interface(\n",
    "    fn=predict,                                      # The function to run when the user inputs an image\n",
    "    inputs=gr.Image(type=\"pil\"),                     # The input widget, which allows the user to upload an image\n",
    "    outputs=gr.Textbox(\"Caption Text\")               # The output widget, which displays the generated caption\n",
    ")\n",
    "\n",
    "# Launch the user interface\n",
    "interface.launch()\n"
   ]
  }
 ],
 "metadata": {
  "kernelspec": {
   "display_name": ".env",
   "language": "python",
   "name": "python3"
  },
  "language_info": {
   "codemirror_mode": {
    "name": "ipython",
    "version": 3
   },
   "file_extension": ".py",
   "mimetype": "text/x-python",
   "name": "python",
   "nbconvert_exporter": "python",
   "pygments_lexer": "ipython3",
   "version": "3.10.6"
  },
  "orig_nbformat": 4
 },
 "nbformat": 4,
 "nbformat_minor": 2
}
